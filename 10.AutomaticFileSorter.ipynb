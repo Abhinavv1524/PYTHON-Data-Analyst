{
 "cells": [
  {
   "cell_type": "markdown",
   "metadata": {},
   "source": [
    "# Automatic File Sorter in File Explorer"
   ]
  },
  {
   "cell_type": "code",
   "execution_count": 2,
   "metadata": {},
   "outputs": [],
   "source": [
    "import os, shutil"
   ]
  },
  {
   "cell_type": "code",
   "execution_count": 3,
   "metadata": {},
   "outputs": [],
   "source": [
    "path = r\"E:/1st sem LPU/Networking Lab/\""
   ]
  },
  {
   "cell_type": "code",
   "execution_count": 4,
   "metadata": {},
   "outputs": [
    {
     "data": {
      "text/plain": [
       "['CISCO files',\n",
       " 'CISCO filesAbhinav Choudhary 12401613 CA.pkt',\n",
       " 'CISCO filesCA 3.pkt',\n",
       " 'CISCO filesca3.pkt',\n",
       " 'CISCO filesConnecting 3 routers.pkt',\n",
       " 'CISCO filesDHCP.pkt',\n",
       " 'CISCO filesEmail.pkt',\n",
       " 'CISCO filesPractical 2.pkt',\n",
       " 'CISCO filesRIP routing.pkt',\n",
       " 'DOCS files',\n",
       " 'DOCS filesAbhinav Choudhary 12401613 CA-1.docx',\n",
       " 'PDF files',\n",
       " 'PDF filesAbhinav Choudhary 12401613 CA-1.pdf',\n",
       " 'PDF filesAbhinav Choudhary 12401613 CA-2.pdf',\n",
       " 'PDF filesAbhinav Choudhary 12401613 CA-3.pdf']"
      ]
     },
     "execution_count": 4,
     "metadata": {},
     "output_type": "execute_result"
    }
   ],
   "source": [
    "files = os.listdir(path)"
   ]
  },
  {
   "cell_type": "code",
   "execution_count": 5,
   "metadata": {},
   "outputs": [],
   "source": [
    "folders = [\"PDF files\", \"DOCS files\", \"CISCO files\"]\n",
    "\n",
    "for folder in range(0,3):\n",
    "    if not os.path.exists(path + folders[folder]):\n",
    "        os.makedirs(path + folders[folder])\n",
    "\n",
    "for file in files :\n",
    "    if \".pdf\" in file and not os.path.exists(path + \"PDF files/\" + file):\n",
    "        shutil.move(path + file, path + \"PDF files/\" + file)\n",
    "    elif \".docx\" in file and not os.path.exists(path + \"DOCS files/\" + file):\n",
    "        shutil.move(path + file, path + \"DOCS files/\" + file)\n",
    "    elif \".pkt\" in file and not os.path.exists(path + \"CISCO files/\" + file):\n",
    "        shutil.move(path + file, path + \"CISCO files/\" + file)"
   ]
  },
  {
   "cell_type": "code",
   "execution_count": 6,
   "metadata": {},
   "outputs": [],
   "source": []
  },
  {
   "cell_type": "code",
   "execution_count": null,
   "metadata": {},
   "outputs": [],
   "source": []
  }
 ],
 "metadata": {
  "kernelspec": {
   "display_name": "Python 3",
   "language": "python",
   "name": "python3"
  },
  "language_info": {
   "codemirror_mode": {
    "name": "ipython",
    "version": 3
   },
   "file_extension": ".py",
   "mimetype": "text/x-python",
   "name": "python",
   "nbconvert_exporter": "python",
   "pygments_lexer": "ipython3",
   "version": "3.12.7"
  }
 },
 "nbformat": 4,
 "nbformat_minor": 2
}
