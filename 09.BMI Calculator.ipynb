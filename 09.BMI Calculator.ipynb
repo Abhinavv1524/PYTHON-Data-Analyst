{
 "cells": [
  {
   "cell_type": "markdown",
   "metadata": {},
   "source": [
    "# BMI Calculator\n"
   ]
  },
  {
   "cell_type": "code",
   "execution_count": 8,
   "metadata": {},
   "outputs": [
    {
     "name": "stdout",
     "output_type": "stream",
     "text": [
      "Your BMI is :  21.6\n",
      "Abhi Normal\n"
     ]
    }
   ],
   "source": [
    "name = input(\"Enter you name\")\n",
    "weight = float(input(\"Enter your Weight in Kg : \"))\n",
    "height = float(input(\"Enter your Height in Meters : \"))\n",
    "\n",
    "\n",
    "BMI = (weight) / (height * height)\n",
    "BMI = round(BMI,2)\n",
    "print(\"Your BMI is : \" , BMI )\n",
    "\n",
    "if BMI > 0 :\n",
    "    if BMI < 16:\n",
    "        print(name + \" Severe Thinness\")\n",
    "    if BMI >= 16 and BMI < 17:\n",
    "        print(name + \" Moderate Thinness\")\n",
    "    if BMI >= 17 and BMI < 18.5:\n",
    "        print(name + \" Mild Thinness\")\n",
    "    if BMI >= 18.5 and BMI < 25:\n",
    "        print(name + \" Normal\")\n",
    "    if BMI >= 25 and BMI < 30:\n",
    "        print(name + \" Overweight\")\n",
    "    if BMI >= 30 and BMI < 35:\n",
    "        print(name + \" Obese Class I\")\n",
    "    if BMI >= 35 and BMI < 40:\n",
    "        print(name + \" Obese Class II\")\n",
    "    if BMI > 40:\n",
    "        print(name + \" Obese Class III\")\n",
    "else :\n",
    "    print(\"Invalid Input\")"
   ]
  },
  {
   "cell_type": "code",
   "execution_count": null,
   "metadata": {},
   "outputs": [],
   "source": []
  },
  {
   "cell_type": "code",
   "execution_count": null,
   "metadata": {},
   "outputs": [],
   "source": []
  },
  {
   "cell_type": "code",
   "execution_count": null,
   "metadata": {},
   "outputs": [],
   "source": []
  }
 ],
 "metadata": {
  "kernelspec": {
   "display_name": "Python 3",
   "language": "python",
   "name": "python3"
  },
  "language_info": {
   "codemirror_mode": {
    "name": "ipython",
    "version": 3
   },
   "file_extension": ".py",
   "mimetype": "text/x-python",
   "name": "python",
   "nbconvert_exporter": "python",
   "pygments_lexer": "ipython3",
   "version": "3.12.7"
  }
 },
 "nbformat": 4,
 "nbformat_minor": 2
}
