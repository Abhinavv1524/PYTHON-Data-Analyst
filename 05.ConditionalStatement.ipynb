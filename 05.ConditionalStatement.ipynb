{
 "cells": [
  {
   "cell_type": "markdown",
   "metadata": {},
   "source": [
    "# IF-ELSE Statements"
   ]
  },
  {
   "cell_type": "code",
   "execution_count": 1,
   "metadata": {},
   "outputs": [
    {
     "name": "stdout",
     "output_type": "stream",
     "text": [
      "It is\n"
     ]
    }
   ],
   "source": [
    "if 25 > 10 :\n",
    "    print(\"It is\")"
   ]
  },
  {
   "cell_type": "code",
   "execution_count": 2,
   "metadata": {},
   "outputs": [
    {
     "name": "stdout",
     "output_type": "stream",
     "text": [
      "i did'nt\n"
     ]
    }
   ],
   "source": [
    "if 25 < 10 :\n",
    "    print('it worked')\n",
    "else :\n",
    "    print(\"i did'nt\")"
   ]
  },
  {
   "cell_type": "code",
   "execution_count": 4,
   "metadata": {},
   "outputs": [
    {
     "name": "stdout",
     "output_type": "stream",
     "text": [
      "2nd elif\n"
     ]
    }
   ],
   "source": [
    "if 25 < 10 :\n",
    "    print(\"it is\")\n",
    "elif 25 < 20 :\n",
    "    print(\"1st elif\")\n",
    "elif 25 < 30 :\n",
    "    print(\"2nd elif\")\n",
    "else :\n",
    "    print(\"it did'nt\")"
   ]
  },
  {
   "cell_type": "code",
   "execution_count": 6,
   "metadata": {},
   "outputs": [
    {
     "name": "stdout",
     "output_type": "stream",
     "text": [
      "yes it is\n"
     ]
    }
   ],
   "source": [
    "if 25 > 10 and 10 < 20 :\n",
    "    print(\"yes it is\")"
   ]
  },
  {
   "cell_type": "code",
   "execution_count": 7,
   "metadata": {},
   "outputs": [
    {
     "name": "stdout",
     "output_type": "stream",
     "text": [
      "it is\n"
     ]
    }
   ],
   "source": [
    "print(\"it is\") if 25 > 10 else print(\"it did not\")"
   ]
  },
  {
   "cell_type": "code",
   "execution_count": 9,
   "metadata": {},
   "outputs": [
    {
     "name": "stdout",
     "output_type": "stream",
     "text": [
      "b is greater\n"
     ]
    }
   ],
   "source": [
    "a = 10\n",
    "b = 12 \n",
    "c = 8 \n",
    "\n",
    "if(a > b) :\n",
    "    if(a > c) :\n",
    "        print(\"a is greater\")\n",
    "    else :\n",
    "        print(\"c is greater\")\n",
    "else :\n",
    "    if(b > c) :\n",
    "        print(\"b is greater\")\n",
    "    else :\n",
    "        print(\"c is greater\")"
   ]
  }
 ],
 "metadata": {
  "kernelspec": {
   "display_name": "Python 3",
   "language": "python",
   "name": "python3"
  },
  "language_info": {
   "codemirror_mode": {
    "name": "ipython",
    "version": 3
   },
   "file_extension": ".py",
   "mimetype": "text/x-python",
   "name": "python",
   "nbconvert_exporter": "python",
   "pygments_lexer": "ipython3",
   "version": "3.12.7"
  }
 },
 "nbformat": 4,
 "nbformat_minor": 2
}
