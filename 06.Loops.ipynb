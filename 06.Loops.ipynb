{
 "cells": [
  {
   "cell_type": "markdown",
   "metadata": {},
   "source": [
    "# Loops \n",
    "\n"
   ]
  },
  {
   "cell_type": "code",
   "execution_count": 1,
   "metadata": {},
   "outputs": [
    {
     "name": "stdout",
     "output_type": "stream",
     "text": [
      "1\n",
      "2\n",
      "3\n",
      "4\n",
      "5\n"
     ]
    }
   ],
   "source": [
    "integer = [1, 2, 3, 4, 5]\n",
    "\n",
    "for numbers in integer : \n",
    "    print(numbers)"
   ]
  },
  {
   "cell_type": "code",
   "execution_count": 7,
   "metadata": {},
   "outputs": [
    {
     "name": "stdout",
     "output_type": "stream",
     "text": [
      "name  :  Abhinav\n",
      "age  :  21\n",
      "Languages  :  {'1st': 'C++', '2nd': 'Python'}\n"
     ]
    }
   ],
   "source": [
    "iceCream = {\n",
    "    \"name\" : \"Abhinav\",\n",
    "    \"age\" : 21,\n",
    "    \"Languages\" : {\n",
    "        \"1st\" : \"C++\",\n",
    "        \"2nd\" : \"Python\"\n",
    "    }\n",
    "}\n",
    "\n",
    "for key, value in iceCream.items() :\n",
    "    print(key ,\" : \", value)"
   ]
  },
  {
   "cell_type": "markdown",
   "metadata": {},
   "source": [
    "# Nested For Loops\n"
   ]
  },
  {
   "cell_type": "code",
   "execution_count": 8,
   "metadata": {},
   "outputs": [
    {
     "name": "stdout",
     "output_type": "stream",
     "text": [
      "Chocolate is topped with Oreos\n",
      "Chocolate is topped with KitKat\n",
      "Chocolate is topped with Munch\n",
      "Strawberry is topped with Oreos\n",
      "Strawberry is topped with KitKat\n",
      "Strawberry is topped with Munch\n",
      "Orange is topped with Oreos\n",
      "Orange is topped with KitKat\n",
      "Orange is topped with Munch\n"
     ]
    }
   ],
   "source": [
    "flavours = [\"Chocolate\", \"Strawberry\", \"Orange\"]\n",
    "toppings = [\"Oreos\", \"KitKat\", \"Munch\"]\n",
    "\n",
    "for flavour in flavours :\n",
    "    for topping in toppings :\n",
    "        print(flavour, \"is topped with\", topping)"
   ]
  },
  {
   "cell_type": "markdown",
   "metadata": {},
   "source": [
    "# While Loop"
   ]
  },
  {
   "cell_type": "code",
   "execution_count": 3,
   "metadata": {},
   "outputs": [
    {
     "name": "stdout",
     "output_type": "stream",
     "text": [
      "0\n",
      "1\n",
      "2\n",
      "3\n",
      "4\n"
     ]
    }
   ],
   "source": [
    "num = 0\n",
    "while num < 5 :\n",
    "    print(num)\n",
    "    num += 1"
   ]
  },
  {
   "cell_type": "code",
   "execution_count": 5,
   "metadata": {},
   "outputs": [
    {
     "name": "stdout",
     "output_type": "stream",
     "text": [
      "1\n",
      "2\n",
      "4\n",
      "5\n",
      "6\n"
     ]
    }
   ],
   "source": [
    "num = 0\n",
    "while num < 10 :\n",
    "    num += 1\n",
    "    if num == 7:\n",
    "        break\n",
    "    elif num == 3:\n",
    "        continue\n",
    "    print(num)"
   ]
  },
  {
   "cell_type": "code",
   "execution_count": null,
   "metadata": {},
   "outputs": [],
   "source": []
  }
 ],
 "metadata": {
  "kernelspec": {
   "display_name": "Python 3",
   "language": "python",
   "name": "python3"
  },
  "language_info": {
   "codemirror_mode": {
    "name": "ipython",
    "version": 3
   },
   "file_extension": ".py",
   "mimetype": "text/x-python",
   "name": "python",
   "nbconvert_exporter": "python",
   "pygments_lexer": "ipython3",
   "version": "3.12.7"
  }
 },
 "nbformat": 4,
 "nbformat_minor": 2
}
